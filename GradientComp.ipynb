{
 "cells": [
  {
   "cell_type": "code",
   "execution_count": 2,
   "metadata": {},
   "outputs": [
    {
     "name": "stderr",
     "output_type": "stream",
     "text": [
      "Using TensorFlow backend.\n",
      "/Users/sichenglei/Desktop/kaggle/salt/venv/lib/python3.6/importlib/_bootstrap.py:219: RuntimeWarning: numpy.dtype size changed, may indicate binary incompatibility. Expected 96, got 88\n",
      "  return f(*args, **kwds)\n",
      "\n",
      "Bad key \"ckend\" on line 1 in\n",
      "/Users/sichenglei/.matplotlib/matplotlibrc.\n",
      "You probably need to get an updated matplotlibrc file from\n",
      "http://github.com/matplotlib/matplotlib/blob/master/matplotlibrc.template\n",
      "or from the matplotlib source distribution\n",
      "/Users/sichenglei/Desktop/kaggle/salt/venv/lib/python3.6/importlib/_bootstrap.py:219: RuntimeWarning: numpy.dtype size changed, may indicate binary incompatibility. Expected 96, got 88\n",
      "  return f(*args, **kwds)\n"
     ]
    }
   ],
   "source": [
    "import keras\n",
    "from keras import layers\n",
    "from keras import models\n",
    "from keras.datasets import mnist\n",
    "from keras.utils import to_categorical"
   ]
  },
  {
   "cell_type": "code",
   "execution_count": 3,
   "metadata": {},
   "outputs": [],
   "source": [
    "(train_images, train_labels), (test_images, test_labels) = mnist.load_data()"
   ]
  },
  {
   "cell_type": "code",
   "execution_count": 4,
   "metadata": {},
   "outputs": [],
   "source": [
    "train_images = train_images.reshape((60000, 28, 28, 1))\n",
    "train_images = train_images.astype('float32') / 255\n",
    "\n",
    "test_images = test_images.reshape((10000, 28, 28, 1))\n",
    "test_images = test_images.astype('float32') / 255"
   ]
  },
  {
   "cell_type": "code",
   "execution_count": 5,
   "metadata": {},
   "outputs": [],
   "source": [
    "train_labels = to_categorical(train_labels)\n",
    "test_labels = to_categorical(test_labels)"
   ]
  },
  {
   "cell_type": "code",
   "execution_count": 6,
   "metadata": {},
   "outputs": [],
   "source": [
    "val_images = train_images[:500]\n",
    "val_labels = train_labels[:500]"
   ]
  },
  {
   "cell_type": "code",
   "execution_count": 7,
   "metadata": {},
   "outputs": [],
   "source": [
    "train_images = train_images[500:]\n",
    "train_labels = train_labels[500:]"
   ]
  },
  {
   "cell_type": "code",
   "execution_count": 7,
   "metadata": {},
   "outputs": [],
   "source": [
    "model = models.Sequential()\n",
    "model.add(layers.Flatten())\n",
    "model.add(layers.Dense(100, activation='relu'))\n",
    "model.add(layers.Dense(100, activation='relu'))\n",
    "model.add(layers.Dense(100, activation='relu'))\n",
    "model.add(layers.Dense(100, activation='relu'))\n",
    "model.add(layers.Dense(10, activation='softmax'))"
   ]
  },
  {
   "cell_type": "code",
   "execution_count": 8,
   "metadata": {},
   "outputs": [],
   "source": [
    "callbacks_list = [\n",
    "    keras.callbacks.EarlyStopping(\n",
    "        monitor='val_acc',  \n",
    "        patience=1 \n",
    "    )\n",
    "]"
   ]
  },
  {
   "cell_type": "code",
   "execution_count": 9,
   "metadata": {},
   "outputs": [
    {
     "name": "stdout",
     "output_type": "stream",
     "text": [
      "Train on 59500 samples, validate on 500 samples\n",
      "Epoch 1/10\n",
      "59500/59500 [==============================] - 9s 144us/step - loss: 1.0726 - acc: 0.6874 - val_loss: 0.3805 - val_acc: 0.8940\n",
      "Epoch 2/10\n",
      "59500/59500 [==============================] - 5s 88us/step - loss: 0.3477 - acc: 0.8970 - val_loss: 0.2823 - val_acc: 0.9160\n",
      "Epoch 3/10\n",
      "59500/59500 [==============================] - 5s 88us/step - loss: 0.2686 - acc: 0.9207 - val_loss: 0.2273 - val_acc: 0.9340\n",
      "Epoch 4/10\n",
      "59500/59500 [==============================] - 5s 90us/step - loss: 0.2298 - acc: 0.9326 - val_loss: 0.1958 - val_acc: 0.9440\n",
      "Epoch 5/10\n",
      "59500/59500 [==============================] - 5s 84us/step - loss: 0.2023 - acc: 0.9405 - val_loss: 0.1980 - val_acc: 0.9460\n",
      "Epoch 6/10\n",
      "59500/59500 [==============================] - 5s 83us/step - loss: 0.1820 - acc: 0.9466 - val_loss: 0.1779 - val_acc: 0.9540\n",
      "Epoch 7/10\n",
      "59500/59500 [==============================] - 5s 78us/step - loss: 0.1648 - acc: 0.9510 - val_loss: 0.1608 - val_acc: 0.9560\n",
      "Epoch 8/10\n",
      "59500/59500 [==============================] - 5s 81us/step - loss: 0.1520 - acc: 0.9554 - val_loss: 0.1791 - val_acc: 0.9460\n"
     ]
    }
   ],
   "source": [
    "model.compile(optimizer='sgd',\n",
    "              loss='categorical_crossentropy',\n",
    "              metrics=['accuracy'])\n",
    "history = model.fit(train_images, train_labels, epochs=10, batch_size=64, callbacks=callbacks_list,\n",
    "          validation_data=(val_images, val_labels))"
   ]
  },
  {
   "cell_type": "code",
   "execution_count": 11,
   "metadata": {},
   "outputs": [
    {
     "data": {
      "image/png": "[encoded data removed]",
      "text/plain": [
       "<Figure size 432x288 with 1 Axes>"
      ]
     },
     "metadata": {},
     "output_type": "display_data"
    },
    {
     "data": {
      "image/png": "[encoded data removed]",
      "text/plain": [
       "<Figure size 432x288 with 1 Axes>"
      ]
     },
     "metadata": {},
     "output_type": "display_data"
    }
   ],
   "source": [
    "import matplotlib.pyplot as plt\n",
    "%matplotlib inline\n",
    "\n",
    "acc = history.history['acc']\n",
    "val_acc = history.history['val_acc']\n",
    "loss = history.history['loss']\n",
    "val_loss = history.history['val_loss']\n",
    "\n",
    "epochs = range(1, len(acc)+1)\n",
    "\n",
    "plt.plot(epochs, acc, 'r', label='Training accuracy')\n",
    "plt.plot(epochs, val_acc, 'b', label='Validation accuracy')\n",
    "# plt.title('Training and validation accracy')\n",
    "plt.legend()\n",
    "\n",
    "plt.figure()\n",
    "\n",
    "plt.plot(epochs, loss, 'r', label='Training loss')\n",
    "plt.plot(epochs, val_loss, 'b', label='Validation loss')\n",
    "# plt.title('Trianing and validation loss')\n",
    "plt.legend()\n",
    "\n",
    "plt.show()"
   ]
  },
  {
   "cell_type": "code",
   "execution_count": 18,
   "metadata": {},
   "outputs": [
    {
     "name": "stdout",
     "output_type": "stream",
     "text": [
      "10000/10000 [==============================] - 0s 44us/step\n"
     ]
    },
    {
     "data": {
      "text/plain": [
       "[0.17441026499047876, 0.9479]"
      ]
     },
     "execution_count": 18,
     "metadata": {},
     "output_type": "execute_result"
    }
   ],
   "source": [
    "model.evaluate(test_images, test_labels)"
   ]
  },
  {
   "cell_type": "code",
   "execution_count": 22,
   "metadata": {},
   "outputs": [],
   "source": [
    "def auto_run():\n",
    "    for op in ['sgd', 'rmsprop', 'adagrad', 'adadelta', 'adam', 'adamax', 'nadam']:\n",
    "        for l in [12]:\n",
    "            model = models.Sequential()\n",
    "            model.add(layers.Flatten())\n",
    "            for i in range(l):\n",
    "                model.add(layers.Dense(100, activation='relu'))\n",
    "            model.add(layers.Dense(10, activation='softmax'))\n",
    "\n",
    "            model.compile(optimizer=op,\n",
    "                  loss='categorical_crossentropy',\n",
    "                  metrics=['accuracy'])\n",
    "            model.fit(train_images, train_labels, epochs=15, batch_size=64, callbacks=callbacks_list,\n",
    "              validation_data=(val_images, val_labels))\n",
    "            print ('optimizer: {}, # layers: {}'.format(op, l))\n",
    "            print (model.evaluate(test_images, test_labels))\n",
    "        "
   ]
  },
  {
   "cell_type": "code",
   "execution_count": 23,
   "metadata": {},
   "outputs": [
    {
     "name": "stdout",
     "output_type": "stream",
     "text": [
      "Train on 59500 samples, validate on 500 samples\n",
      "Epoch 1/15\n",
      "59500/59500 [==============================] - 10s 161us/step - loss: 2.2849 - acc: 0.1669 - val_loss: 2.2084 - val_acc: 0.3080\n",
      "Epoch 2/15\n",
      "59500/59500 [==============================] - 6s 102us/step - loss: 1.3123 - acc: 0.5579 - val_loss: 0.7665 - val_acc: 0.7420\n",
      "Epoch 3/15\n",
      "59500/59500 [==============================] - 6s 95us/step - loss: 0.4428 - acc: 0.8669 - val_loss: 0.2879 - val_acc: 0.9140\n",
      "Epoch 4/15\n",
      "59500/59500 [==============================] - 5s 91us/step - loss: 0.2688 - acc: 0.9221 - val_loss: 0.2898 - val_acc: 0.9080\n",
      "optimizer: sgd, # layers: 12\n",
      "10000/10000 [==============================] - 1s 90us/step\n",
      "[0.3160898743391037, 0.9038]\n",
      "Train on 59500 samples, validate on 500 samples\n",
      "Epoch 1/15\n",
      "59500/59500 [==============================] - 9s 153us/step - loss: 0.4842 - acc: 0.8393 - val_loss: 0.1887 - val_acc: 0.9560\n",
      "Epoch 2/15\n",
      "59500/59500 [==============================] - 6s 99us/step - loss: 0.1899 - acc: 0.9513 - val_loss: 0.1275 - val_acc: 0.9660\n",
      "Epoch 3/15\n",
      "59500/59500 [==============================] - 6s 108us/step - loss: 0.1448 - acc: 0.9627 - val_loss: 0.1125 - val_acc: 0.9660\n",
      "optimizer: rmsprop, # layers: 12\n",
      "10000/10000 [==============================] - 1s 95us/step\n",
      "[0.1353745605690405, 0.9636]\n",
      "Train on 59500 samples, validate on 500 samples\n",
      "Epoch 1/15\n",
      "59500/59500 [==============================] - 10s 163us/step - loss: 0.4874 - acc: 0.8405 - val_loss: 0.1887 - val_acc: 0.9440\n",
      "Epoch 2/15\n",
      "59500/59500 [==============================] - 7s 116us/step - loss: 0.1542 - acc: 0.9566 - val_loss: 0.1366 - val_acc: 0.9660\n",
      "Epoch 3/15\n",
      "59500/59500 [==============================] - 7s 114us/step - loss: 0.1070 - acc: 0.9701 - val_loss: 0.1269 - val_acc: 0.9640\n",
      "optimizer: adagrad, # layers: 12\n",
      "10000/10000 [==============================] - 1s 90us/step\n",
      "[0.13292009403379634, 0.962]\n",
      "Train on 59500 samples, validate on 500 samples\n",
      "Epoch 1/15\n",
      "59500/59500 [==============================] - 12s 205us/step - loss: 0.5507 - acc: 0.8154 - val_loss: 0.2233 - val_acc: 0.9440\n",
      "Epoch 2/15\n",
      "59500/59500 [==============================] - 7s 124us/step - loss: 0.1736 - acc: 0.9522 - val_loss: 0.2079 - val_acc: 0.9340\n",
      "optimizer: adadelta, # layers: 12\n",
      "10000/10000 [==============================] - 1s 99us/step\n",
      "[0.23914244178906083, 0.9349]\n",
      "Train on 59500 samples, validate on 500 samples\n",
      "Epoch 1/15\n",
      "59500/59500 [==============================] - 12s 196us/step - loss: 0.3883 - acc: 0.8764 - val_loss: 0.2652 - val_acc: 0.9280\n",
      "Epoch 2/15\n",
      "59500/59500 [==============================] - 10s 167us/step - loss: 0.1550 - acc: 0.9564 - val_loss: 0.1638 - val_acc: 0.9460\n",
      "Epoch 3/15\n",
      "59500/59500 [==============================] - 8s 137us/step - loss: 0.1212 - acc: 0.9664 - val_loss: 0.1326 - val_acc: 0.9700\n",
      "Epoch 4/15\n",
      "59500/59500 [==============================] - 7s 122us/step - loss: 0.1033 - acc: 0.9722 - val_loss: 0.1632 - val_acc: 0.9480\n",
      "optimizer: adam, # layers: 12\n",
      "10000/10000 [==============================] - 1s 96us/step\n",
      "[0.1442270700145513, 0.96]\n",
      "Train on 59500 samples, validate on 500 samples\n",
      "Epoch 1/15\n",
      "59500/59500 [==============================] - 10s 176us/step - loss: 0.4485 - acc: 0.8595 - val_loss: 0.1802 - val_acc: 0.9440\n",
      "Epoch 2/15\n",
      "59500/59500 [==============================] - 8s 140us/step - loss: 0.1682 - acc: 0.9524 - val_loss: 0.1326 - val_acc: 0.9700\n",
      "Epoch 3/15\n",
      "59500/59500 [==============================] - 7s 124us/step - loss: 0.1230 - acc: 0.9654 - val_loss: 0.1193 - val_acc: 0.9660\n",
      "optimizer: adamax, # layers: 12\n",
      "10000/10000 [==============================] - 1s 99us/step\n",
      "[0.12860841057924555, 0.9625]\n",
      "Train on 59500 samples, validate on 500 samples\n",
      "Epoch 1/15\n",
      "59500/59500 [==============================] - 13s 216us/step - loss: 0.5169 - acc: 0.8298 - val_loss: 0.1741 - val_acc: 0.9500\n",
      "Epoch 2/15\n",
      "59500/59500 [==============================] - 8s 138us/step - loss: 0.2015 - acc: 0.9479 - val_loss: 0.1296 - val_acc: 0.9700\n",
      "Epoch 3/15\n",
      "59500/59500 [==============================] - 9s 148us/step - loss: 0.1634 - acc: 0.9582 - val_loss: 0.1396 - val_acc: 0.9640\n",
      "optimizer: nadam, # layers: 12\n",
      "10000/10000 [==============================] - 1s 112us/step\n",
      "[0.15443791412599384, 0.9603]\n"
     ]
    }
   ],
   "source": [
    "auto_run()"
   ]
  },
  {
   "cell_type": "code",
   "execution_count": null,
   "metadata": {},
   "outputs": [],
   "source": []
  }
 ],
 "metadata": {
  "kernelspec": {
   "display_name": "Python 3",
   "language": "python",
   "name": "python3"
  },
  "language_info": {
   "codemirror_mode": {
    "name": "ipython",
    "version": 3
   },
   "file_extension": ".py",
   "mimetype": "text/x-python",
   "name": "python",
   "nbconvert_exporter": "python",
   "pygments_lexer": "ipython3",
   "version": "3.6.3"
  }
 },
 "nbformat": 4,
 "nbformat_minor": 2
}
